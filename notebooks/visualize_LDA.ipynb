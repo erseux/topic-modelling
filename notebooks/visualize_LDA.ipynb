{
 "cells": [
  {
   "cell_type": "code",
   "execution_count": 12,
   "metadata": {},
   "outputs": [],
   "source": [
    "import sys\n",
    "sys.path.insert(0,'/Users/august/Coding/topic-modelling')"
   ]
  },
  {
   "cell_type": "code",
   "execution_count": 13,
   "metadata": {},
   "outputs": [
    {
     "name": "stdout",
     "output_type": "stream",
     "text": [
      "Read processed data from: ../data/abcnews_lem_stem.pickle\n"
     ]
    }
   ],
   "source": [
    "from topic_modelling.data_loader import DataLoader\n",
    "from topic_modelling.LDA import LDA\n",
    "import seaborn as sns\n",
    "from sklearn.decomposition import PCA\n",
    "\n",
    "data_path = \"../data/abcnews_lem_stem.pickle\"\n",
    "dl = DataLoader()\n",
    "n_rows = 100000\n",
    "corpus = dl.load(data_path, n_rows=n_rows)\n",
    "num_topics = 9\n",
    "lda = LDA(corpus)\n",
    "\n",
    "lda.fit(verbosity=False, num_topics=num_topics, iterations=50)"
   ]
  },
  {
   "cell_type": "code",
   "execution_count": 14,
   "metadata": {},
   "outputs": [
    {
     "name": "stdout",
     "output_type": "stream",
     "text": [
      "['govt', 'fund', 'health', 'call', 'urg', 'plan', 'nsw', 'servic', 'group', 'boost', 'hospit', 'say', 'minist', 'vic', 'new', 'act', 'chang', 'claim', 'indigen', 'qld']\n",
      "['kill', 'polic', 'crash', 'man', 'miss', 'dead', 'bomb', 'attack', 'two', 'car', 'death', 'blast', 'fire', 'search', 'accid', 'three', 'injur', 'found', 'investig', 'probe']\n",
      "['plan', 'council', 'new', 'boost', 'get', 'mayor', 'coast', 'consid', 'fund', 'water', 'centr', 'group', 'develop', 'call', 'govt', 'mine', 'resid', 'rise', 'chang', 'seek']\n",
      "['win', 'cup', 'world', 'final', 'lead', 'open', 'england', 'set', 'back', 'top', 'titl', 'take', 'aussi', 'test', 'tour', 'play', 'injuri', 'clash', 'coach', 'first']\n",
      "['iraq', 'say', 'talk', 'iraqi', 'report', 'new', 'bush', 'korea', 'troop', 'trade', 'war', 'deal', 'north', 'leader', 'howard', 'free', 'east', 'minist', 'china', 'israel']\n",
      "['fire', 'new', 'work', 'worker', 'strike', 'nation', 'say', 'back', 'sydney', 'union', 'fine', 'ban', 'probe', 'set', 'begin', 'claim', 'telstra', 'return', 'job', 'face']\n",
      "['protest', 'war', 'day', 'anti', 'warn', 'terror', 'say', 'zimbabw', 'australia', 'forc', 'back', 'iraq', 'india', 'pakistan', 'elect', 'fight', 'thousand', 'win', 'test', 'leader']\n",
      "['polic', 'charg', 'court', 'man', 'face', 'murder', 'jail', 'drug', 'trial', 'case', 'sex', 'appeal', 'death', 'child', 'hear', 'probe', 'alleg', 'claim', 'assault', 'woman']\n",
      "['water', 'farmer', 'warn', 'market', 'new', 'rain', 'price', 'rate', 'high', 'may', 'studi', 'drought', 'rise', 'record', 'industri', 'research', 'export', 'help', 'boost', 'dollar']\n"
     ]
    }
   ],
   "source": [
    "topics, _ = lda.get_topics()\n",
    "for topic in topics:\n",
    "    print(topic)"
   ]
  },
  {
   "cell_type": "code",
   "execution_count": 15,
   "metadata": {},
   "outputs": [],
   "source": [
    "topic_matrix = lda.topic_word_matrix"
   ]
  },
  {
   "cell_type": "code",
   "execution_count": 16,
   "metadata": {},
   "outputs": [],
   "source": [
    "categories = ['topic ' + str(i+1) for i in range(num_topics)]"
   ]
  },
  {
   "cell_type": "code",
   "execution_count": 17,
   "metadata": {},
   "outputs": [],
   "source": [
    "pca = PCA(n_components=9).fit(topic_matrix)\n",
    "X_pca = pca.transform(topic_matrix)"
   ]
  },
  {
   "cell_type": "code",
   "execution_count": 33,
   "metadata": {},
   "outputs": [],
   "source": [
    "def get_best_topic(array):\n",
    "    return np.argmax(array)"
   ]
  },
  {
   "cell_type": "code",
   "execution_count": 37,
   "metadata": {},
   "outputs": [],
   "source": [
    "import numpy as np\n",
    "topic_assignments = np.apply_along_axis(get_best_topic, 0, topic_matrix)"
   ]
  },
  {
   "cell_type": "code",
   "execution_count": 43,
   "metadata": {},
   "outputs": [],
   "source": [
    "sizes = np.unique(topic_assignments, return_counts=True)[1]"
   ]
  },
  {
   "cell_type": "code",
   "execution_count": 44,
   "metadata": {},
   "outputs": [],
   "source": [
    "data = {\n",
    "    \"x1\": X_pca[:,0],\n",
    "    \"x2\": X_pca[:, 1],\n",
    "    \"weight\": sizes\n",
    "    }"
   ]
  },
  {
   "cell_type": "code",
   "execution_count": 45,
   "metadata": {},
   "outputs": [
    {
     "data": {
      "image/png": "[encoded data removed]",
      "text/plain": [
       "<Figure size 648.225x576 with 1 Axes>"
      ]
     },
     "metadata": {},
     "output_type": "display_data"
    }
   ],
   "source": [
    "sns.set(rc={'figure.figsize':(20,20)})\n",
    "relplot = sns.relplot(\n",
    "    x=\"x1\", y=\"x2\", hue=categories, size=\"weight\",\n",
    "    sizes=(50, 400), alpha=0.8, palette=\"muted\",\n",
    "    data=data, legend=\"auto\", height=8)\n",
    "fig = relplot.fig\n",
    "fig.savefig(f\"../topic_modelling/images/LDA/PCA/PCA_{n_rows}x{num_topics}.png\") "
   ]
  }
 ],
 "metadata": {
  "interpreter": {
   "hash": "3c61e2d37e4d302ebbe056fa2f917baf0ad6e808dff9875e6779f13035792cee"
  },
  "kernelspec": {
   "display_name": "Python 3.10.0 64-bit ('venv': venv)",
   "language": "python",
   "name": "python3"
  },
  "language_info": {
   "codemirror_mode": {
    "name": "ipython",
    "version": 3
   },
   "file_extension": ".py",
   "mimetype": "text/x-python",
   "name": "python",
   "nbconvert_exporter": "python",
   "pygments_lexer": "ipython3",
   "version": "3.10.0"
  },
  "orig_nbformat": 4
 },
 "nbformat": 4,
 "nbformat_minor": 2
}
