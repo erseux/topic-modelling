{
 "cells": [
  {
   "cell_type": "code",
   "execution_count": 1,
   "metadata": {},
   "outputs": [],
   "source": [
    "import sys\n",
    "sys.path.insert(0,'/Users/august/Coding/topic-modelling')"
   ]
  },
  {
   "cell_type": "code",
   "execution_count": 2,
   "metadata": {},
   "outputs": [],
   "source": [
    "from topic_modelling.data_loader import DataLoader\n",
    "from topic_modelling.kmeans import KMeansCluster\n",
    "import timeit\n",
    "import matplotlib.pyplot as plt\n",
    "\n",
    "data_path = \"../data/abcnews_lem_stem.pickle\""
   ]
  },
  {
   "cell_type": "code",
   "execution_count": 3,
   "metadata": {},
   "outputs": [],
   "source": [
    "def read_data(n_rows):\n",
    "    dl = DataLoader()\n",
    "    corpus = dl.load(data_path, n_rows=n_rows)\n",
    "    return corpus"
   ]
  },
  {
   "cell_type": "code",
   "execution_count": 8,
   "metadata": {},
   "outputs": [],
   "source": [
    "def kMeansClustering(corpus, clusters):\n",
    "    cluster = KMeansCluster(corpus, TFIDF_method=\"native\", num_clusters=clusters)\n",
    "    cluster.cluster_documents(verbosity=False)"
   ]
  },
  {
   "cell_type": "code",
   "execution_count": 10,
   "metadata": {},
   "outputs": [
    {
     "name": "stdout",
     "output_type": "stream",
     "text": [
      "Read processed data from: ../data/abcnews_lem_stem.pickle\n",
      "fitted TF-IDF matrix\n",
      "Time for 1000 rows X 5 clusters:  0.41084145800050464\n",
      "Read processed data from: ../data/abcnews_lem_stem.pickle\n",
      "fitted TF-IDF matrix\n",
      "Time for 1000 rows X 10 clusters:  0.6354757079998308\n",
      "Read processed data from: ../data/abcnews_lem_stem.pickle\n",
      "fitted TF-IDF matrix\n",
      "Time for 1000 rows X 20 clusters:  0.9237412499996935\n",
      "Read processed data from: ../data/abcnews_lem_stem.pickle\n",
      "fitted TF-IDF matrix\n",
      "Time for 5000 rows X 5 clusters:  4.911004999999932\n",
      "Read processed data from: ../data/abcnews_lem_stem.pickle\n",
      "fitted TF-IDF matrix\n",
      "Time for 5000 rows X 10 clusters:  7.6081085829991935\n",
      "Read processed data from: ../data/abcnews_lem_stem.pickle\n",
      "fitted TF-IDF matrix\n",
      "Time for 5000 rows X 20 clusters:  11.550890292000076\n",
      "Read processed data from: ../data/abcnews_lem_stem.pickle\n",
      "fitted TF-IDF matrix\n",
      "Time for 10000 rows X 5 clusters:  13.922221583000464\n",
      "Read processed data from: ../data/abcnews_lem_stem.pickle\n",
      "fitted TF-IDF matrix\n",
      "Time for 10000 rows X 10 clusters:  20.740805292000005\n",
      "Read processed data from: ../data/abcnews_lem_stem.pickle\n",
      "fitted TF-IDF matrix\n",
      "Time for 10000 rows X 20 clusters:  30.421637458000077\n",
      "Read processed data from: ../data/abcnews_lem_stem.pickle\n",
      "fitted TF-IDF matrix\n",
      "Time for 25000 rows X 5 clusters:  46.00711274999958\n",
      "Read processed data from: ../data/abcnews_lem_stem.pickle\n",
      "fitted TF-IDF matrix\n",
      "Time for 25000 rows X 10 clusters:  74.91409108300013\n",
      "Read processed data from: ../data/abcnews_lem_stem.pickle\n",
      "fitted TF-IDF matrix\n",
      "Time for 25000 rows X 20 clusters:  121.32438329200068\n",
      "Read processed data from: ../data/abcnews_lem_stem.pickle\n",
      "fitted TF-IDF matrix\n",
      "Time for 50000 rows X 5 clusters:  138.77885175000029\n",
      "Read processed data from: ../data/abcnews_lem_stem.pickle\n",
      "fitted TF-IDF matrix\n",
      "Time for 50000 rows X 10 clusters:  230.28645541700007\n",
      "Read processed data from: ../data/abcnews_lem_stem.pickle\n",
      "fitted TF-IDF matrix\n",
      "Time for 50000 rows X 20 clusters:  407.5036747089998\n"
     ]
    }
   ],
   "source": [
    "n = [1000, 5000, 10000, 25000, 50000]\n",
    "n_clusters = [5, 10, 20]\n",
    "times = []\n",
    "for n_rows in n:\n",
    "    row_times = []\n",
    "    for clusters in n_clusters:\n",
    "        corpus = read_data(n_rows)\n",
    "        time = timeit.timeit(stmt= lambda: kMeansClustering(corpus, clusters), number=1)\n",
    "        row_times.append(time)\n",
    "        print(f\"Time for {n_rows} rows X {clusters} clusters: \", time)\n",
    "    times.append(row_times)"
   ]
  },
  {
   "cell_type": "code",
   "execution_count": 11,
   "metadata": {},
   "outputs": [],
   "source": [
    "cluster_5 = [time[0] for time in times]\n",
    "cluster_10 = [time[1] for time in times]\n",
    "cluster_20 = [time[2] for time in times]"
   ]
  },
  {
   "cell_type": "code",
   "execution_count": 12,
   "metadata": {},
   "outputs": [
    {
     "data": {
      "image/png": "[encoded data removed]",
      "text/plain": [
       "<Figure size 432x288 with 1 Axes>"
      ]
     },
     "metadata": {
      "needs_background": "light"
     },
     "output_type": "display_data"
    }
   ],
   "source": [
    "plt.plot(n, cluster_5, label = \"5 Clusters\")\n",
    "plt.plot(n, cluster_10, label= \"10 Clusters\")\n",
    "plt.plot(n, cluster_20, label = \"20 Clusters\")\n",
    "plt.title(\"Time Complexity - TF-IDF, KMeans\")\n",
    "plt.xlabel(\"Number of documents\")\n",
    "plt.ylabel(\"Time (seconds)\")\n",
    "plt.legend()\n",
    "\n",
    "plt.show()"
   ]
  }
 ],
 "metadata": {
  "interpreter": {
   "hash": "aee8b7b246df8f9039afb4144a1f6fd8d2ca17a180786b69acc140d282b71a49"
  },
  "kernelspec": {
   "display_name": "Python 3.9.0 64-bit",
   "language": "python",
   "name": "python3"
  },
  "language_info": {
   "codemirror_mode": {
    "name": "ipython",
    "version": 3
   },
   "file_extension": ".py",
   "mimetype": "text/x-python",
   "name": "python",
   "nbconvert_exporter": "python",
   "pygments_lexer": "ipython3",
   "version": "3.10.0"
  },
  "orig_nbformat": 4
 },
 "nbformat": 4,
 "nbformat_minor": 2
}
