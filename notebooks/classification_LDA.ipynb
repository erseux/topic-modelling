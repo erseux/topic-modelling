{
 "cells": [
  {
   "cell_type": "code",
   "execution_count": 16,
   "metadata": {},
   "outputs": [],
   "source": [
    "import sys\n",
    "sys.path.insert(0,'/Users/august/Coding/topic-modelling')"
   ]
  },
  {
   "cell_type": "code",
   "execution_count": 17,
   "metadata": {},
   "outputs": [],
   "source": [
    "from sklearn.datasets import fetch_20newsgroups\n",
    "from topic_modelling.data_loader import DataLoader\n",
    "from topic_modelling.LDA import LDA\n",
    "import pandas as pd\n",
    "from pprint import pprint\n",
    "\n",
    "categories = ['rec.autos', 'talk.religion.misc',\n",
    "              'comp.graphics', 'sci.space', 'talk.politics.guns']\n",
    "\n",
    "num_categories = 4\n",
    "categories = categories[:num_categories]\n",
    "\n",
    "newsgroups_train = fetch_20newsgroups(subset='train',\n",
    "                                      categories=categories, remove=('headers', 'footers', 'quotes'))\n",
    "newsgroups_test = fetch_20newsgroups(subset='test', \n",
    "                                      categories=categories,  remove=('headers', 'footers', 'quotes'))\n",
    "data_df = pd.DataFrame(newsgroups_train, columns=[\"data\", \"target\"])\n",
    "test_data_df = pd.DataFrame(newsgroups_test, columns=[\"data\", \"target\"])\n"
   ]
  },
  {
   "cell_type": "code",
   "execution_count": 18,
   "metadata": {},
   "outputs": [
    {
     "name": "stdout",
     "output_type": "stream",
     "text": [
      "Processed data\n",
      "prepared data for LDA\n",
      "initialized LDA\n"
     ]
    }
   ],
   "source": [
    "dl = DataLoader()\n",
    "corpus = dl.load_df(data_df)\n",
    "\n",
    "print(\"prepared data for LDA\")\n",
    "\n",
    "lda = LDA(corpus[\"data\"])\n",
    "print(\"initialized LDA\")"
   ]
  },
  {
   "cell_type": "code",
   "execution_count": 19,
   "metadata": {},
   "outputs": [
    {
     "name": "stderr",
     "output_type": "stream",
     "text": [
      "100%|██████████| 50/50 [01:56<00:00,  2.33s/it]"
     ]
    },
    {
     "name": "stdout",
     "output_type": "stream",
     "text": [
      "Final perplexity: 2069.1728627109505\n"
     ]
    },
    {
     "name": "stderr",
     "output_type": "stream",
     "text": [
      "\n"
     ]
    }
   ],
   "source": [
    "lda.fit(num_topics=num_categories)"
   ]
  },
  {
   "cell_type": "code",
   "execution_count": 20,
   "metadata": {},
   "outputs": [
    {
     "name": "stdout",
     "output_type": "stream",
     "text": [
      "Processed data\n"
     ]
    }
   ],
   "source": [
    "dl_test = DataLoader()\n",
    "test_corpus = dl_test.load_df(test_data_df)"
   ]
  },
  {
   "cell_type": "code",
   "execution_count": 21,
   "metadata": {},
   "outputs": [],
   "source": [
    "predictions = test_corpus[\"data\"].apply(lda.predict_topic)"
   ]
  },
  {
   "cell_type": "code",
   "execution_count": 22,
   "metadata": {},
   "outputs": [],
   "source": [
    "test_corpus[\"prediction\"] = predictions.apply(lambda rad: rad[0][0]) # predict topic with highest probability"
   ]
  },
  {
   "cell_type": "code",
   "execution_count": 23,
   "metadata": {},
   "outputs": [
    {
     "data": {
      "text/html": [
       "<div>\n",
       "<style scoped>\n",
       "    .dataframe tbody tr th:only-of-type {\n",
       "        vertical-align: middle;\n",
       "    }\n",
       "\n",
       "    .dataframe tbody tr th {\n",
       "        vertical-align: top;\n",
       "    }\n",
       "\n",
       "    .dataframe thead th {\n",
       "        text-align: right;\n",
       "    }\n",
       "</style>\n",
       "<table border=\"1\" class=\"dataframe\">\n",
       "  <thead>\n",
       "    <tr style=\"text-align: right;\">\n",
       "      <th></th>\n",
       "      <th>data</th>\n",
       "      <th>target</th>\n",
       "      <th>prediction</th>\n",
       "    </tr>\n",
       "  </thead>\n",
       "  <tbody>\n",
       "    <tr>\n",
       "      <th>0</th>\n",
       "      <td>[origin, owner, seat, origin, poster, take, se...</td>\n",
       "      <td>1</td>\n",
       "      <td>2</td>\n",
       "    </tr>\n",
       "    <tr>\n",
       "      <th>1</th>\n",
       "      <td>[went, thru, spin, chair, test, jsc, phd, char...</td>\n",
       "      <td>2</td>\n",
       "      <td>1</td>\n",
       "    </tr>\n",
       "    <tr>\n",
       "      <th>2</th>\n",
       "      <td>[think, let, bhagwan, bhagwan]</td>\n",
       "      <td>3</td>\n",
       "      <td>4</td>\n",
       "    </tr>\n",
       "    <tr>\n",
       "      <th>3</th>\n",
       "      <td>[curious, refer, koresh, man, upper, case, nev...</td>\n",
       "      <td>3</td>\n",
       "      <td>4</td>\n",
       "    </tr>\n",
       "    <tr>\n",
       "      <th>4</th>\n",
       "      <td>[problem, probe, water, definit, com, rubber, ...</td>\n",
       "      <td>1</td>\n",
       "      <td>2</td>\n",
       "    </tr>\n",
       "  </tbody>\n",
       "</table>\n",
       "</div>"
      ],
      "text/plain": [
       "                                                data  target  prediction\n",
       "0  [origin, owner, seat, origin, poster, take, se...       1           2\n",
       "1  [went, thru, spin, chair, test, jsc, phd, char...       2           1\n",
       "2                     [think, let, bhagwan, bhagwan]       3           4\n",
       "3  [curious, refer, koresh, man, upper, case, nev...       3           4\n",
       "4  [problem, probe, water, definit, com, rubber, ...       1           2"
      ]
     },
     "execution_count": 23,
     "metadata": {},
     "output_type": "execute_result"
    }
   ],
   "source": [
    "test_corpus.head()"
   ]
  },
  {
   "cell_type": "code",
   "execution_count": 36,
   "metadata": {},
   "outputs": [
    {
     "data": {
      "text/plain": [
       "[['space', 'nasa', 'orbit', 'launch', 'satellit'],\n",
       " ['car', 'would', 'like', 'get', 'use'],\n",
       " ['imag', 'file', 'use', 'graphic', 'edu'],\n",
       " ['one', 'peopl', 'god', 'say', 'would']]"
      ]
     },
     "execution_count": 36,
     "metadata": {},
     "output_type": "execute_result"
    }
   ],
   "source": [
    "topics, _ = lda.get_topics(max_words_per_topic=5)\n",
    "topics"
   ]
  },
  {
   "cell_type": "code",
   "execution_count": 25,
   "metadata": {},
   "outputs": [
    {
     "data": {
      "text/plain": [
       "['rec.autos', 'talk.religion.misc', 'comp.graphics', 'sci.space']"
      ]
     },
     "execution_count": 25,
     "metadata": {},
     "output_type": "execute_result"
    }
   ],
   "source": [
    "categories"
   ]
  },
  {
   "cell_type": "code",
   "execution_count": 31,
   "metadata": {},
   "outputs": [],
   "source": [
    "def remap(i: int):\n",
    "    i -= 1\n",
    "    cat = [3, 0, 2, 1, 2]\n",
    "    return cat[i]"
   ]
  },
  {
   "cell_type": "code",
   "execution_count": 32,
   "metadata": {},
   "outputs": [],
   "source": [
    "test_corpus[\"prediction\"] = test_corpus[\"prediction\"].apply(remap)"
   ]
  },
  {
   "cell_type": "code",
   "execution_count": 33,
   "metadata": {},
   "outputs": [],
   "source": [
    "test_corpus = test_corpus[test_corpus['data'].map(lambda d: len(d)) > 0]"
   ]
  },
  {
   "cell_type": "code",
   "execution_count": 34,
   "metadata": {},
   "outputs": [
    {
     "name": "stdout",
     "output_type": "stream",
     "text": [
      "test_data\n"
     ]
    },
    {
     "data": {
      "text/plain": [
       "0.3941818181818182"
      ]
     },
     "execution_count": 34,
     "metadata": {},
     "output_type": "execute_result"
    }
   ],
   "source": [
    "import numpy as np\n",
    "from sklearn.metrics import accuracy_score\n",
    "print(\"test_data\")\n",
    "accuracy_score(np.array(test_corpus[\"target\"]), test_corpus[\"prediction\"])"
   ]
  },
  {
   "cell_type": "code",
   "execution_count": 35,
   "metadata": {},
   "outputs": [
    {
     "name": "stdout",
     "output_type": "stream",
     "text": [
      "train_data\n"
     ]
    },
    {
     "data": {
      "text/plain": [
       "0.09588377723970944"
      ]
     },
     "execution_count": 35,
     "metadata": {},
     "output_type": "execute_result"
    }
   ],
   "source": [
    "train_predictions = corpus[\"data\"].apply(lda.predict_topic)\n",
    "corpus[\"prediction\"] = train_predictions.apply(lambda rad: rad[0][0])\n",
    "corpus[\"prediction\"] = corpus[\"prediction\"].apply(remap)\n",
    "corpus = corpus[corpus['data'].map(lambda d: len(d)) > 0]\n",
    "print(\"train_data\")\n",
    "accuracy_score(np.array(corpus[\"target\"]), corpus[\"prediction\"])"
   ]
  }
 ],
 "metadata": {
  "interpreter": {
   "hash": "7f0c5e0b37025452a903f9ab61f48c895bf80618e1a190f811b334b2e713353a"
  },
  "kernelspec": {
   "display_name": "Python 3.10.0 64-bit ('venv': venv)",
   "language": "python",
   "name": "python3"
  },
  "language_info": {
   "codemirror_mode": {
    "name": "ipython",
    "version": 3
   },
   "file_extension": ".py",
   "mimetype": "text/x-python",
   "name": "python",
   "nbconvert_exporter": "python",
   "pygments_lexer": "ipython3",
   "version": "3.10.0"
  },
  "orig_nbformat": 4
 },
 "nbformat": 4,
 "nbformat_minor": 2
}
