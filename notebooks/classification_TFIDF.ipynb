{
 "cells": [
  {
   "cell_type": "code",
   "execution_count": 1,
   "metadata": {},
   "outputs": [],
   "source": [
    "import sys\n",
    "sys.path.insert(0,'/Users/august/Coding/topic-modelling')"
   ]
  },
  {
   "cell_type": "code",
   "execution_count": 2,
   "metadata": {},
   "outputs": [],
   "source": [
    "from sklearn.datasets import fetch_20newsgroups\n",
    "from topic_modelling.data_loader import DataLoader\n",
    "import numpy as np\n",
    "from sklearn.neighbors import NearestNeighbors\n",
    "import pandas as pd\n",
    "\n",
    "categories = ['rec.sport.baseball', 'talk.religion.misc',\n",
    "              'comp.graphics', 'sci.space', 'talk.politics.guns']\n",
    "n_clusters = 5\n",
    "categories = categories[:n_clusters]\n",
    "\n",
    "newsgroups_train = fetch_20newsgroups(subset='train',\n",
    "                                      categories=categories, remove=('headers', 'footers', 'quotes'))\n",
    "newsgroups_test = fetch_20newsgroups(subset='test', \n",
    "                                      categories=categories,  remove=('headers', 'footers', 'quotes'))\n",
    "data_df = pd.DataFrame(newsgroups_train, columns=[\"data\", \"target\"])\n",
    "test_data_df = pd.DataFrame(newsgroups_test, columns=[\"data\", \"target\"])"
   ]
  },
  {
   "cell_type": "code",
   "execution_count": 3,
   "metadata": {},
   "outputs": [
    {
     "name": "stdout",
     "output_type": "stream",
     "text": [
      "Processed data\n"
     ]
    }
   ],
   "source": [
    "dl = DataLoader()\n",
    "corpus = dl.load_df(data_df)"
   ]
  },
  {
   "cell_type": "code",
   "execution_count": 4,
   "metadata": {},
   "outputs": [
    {
     "name": "stderr",
     "output_type": "stream",
     "text": [
      "100%|██████████| 2623/2623 [00:00<00:00, 43117.38it/s]\n"
     ]
    },
    {
     "name": "stdout",
     "output_type": "stream",
     "text": [
      "fitted TF-IDF matrix\n"
     ]
    }
   ],
   "source": [
    "from topic_modelling.kmeans import KMeansCluster\n",
    "cluster = KMeansCluster(corpus[\"data\"], TFIDF_method=\"native\", num_clusters=n_clusters)\n",
    "doc_clusters, cluster_assignments = cluster.cluster_documents(verbosity=False)"
   ]
  },
  {
   "cell_type": "code",
   "execution_count": 5,
   "metadata": {},
   "outputs": [
    {
     "name": "stdout",
     "output_type": "stream",
     "text": [
      "Processed data\n"
     ]
    }
   ],
   "source": [
    "dl_test = DataLoader()\n",
    "test_corpus = dl_test.load_df(test_data_df)"
   ]
  },
  {
   "cell_type": "code",
   "execution_count": 6,
   "metadata": {},
   "outputs": [
    {
     "name": "stdout",
     "output_type": "stream",
     "text": [
      "['color (0.01)', 'appreci (0.01)', 'format (0.01)', 'window (0.01)', 'object (0.01)', 'code (0.01)', 'gif (0.01)', 'anybodi (0.01)', 'card (0.01)', 'advanc (0.01)']\n",
      "['player (0.05)', 'pitch (0.05)', 'hit (0.05)', 'win (0.04)', 'basebal (0.04)', 'score (0.03)', 'brave (0.03)', 'fan (0.03)', 'leagu (0.03)', 'season (0.03)']\n",
      "['nasa (0.05)', 'orbit (0.04)', 'launch (0.04)', 'moon (0.03)', 'cost (0.03)', 'shuttl (0.03)', 'develop (0.03)', 'data (0.03)', 'satellit (0.02)', 'fund (0.02)']\n",
      "['christian (0.15)', 'god (0.14)', 'jesus (0.11)', 'bibl (0.05)', 'christ (0.05)', 'mormon (0.03)', 'love (0.03)', 'church (0.03)', 'faith (0.03)', 'moral (0.03)']\n",
      "['weapon (0.05)', 'fire (0.04)', 'fbi (0.04)', 'firearm (0.03)', 'crime (0.03)', 'crimin (0.03)', 'polic (0.02)', 'koresh (0.02)', 'child (0.02)', 'batf (0.02)']\n"
     ]
    }
   ],
   "source": [
    "cluster.get_best_words()"
   ]
  },
  {
   "cell_type": "code",
   "execution_count": 7,
   "metadata": {},
   "outputs": [
    {
     "data": {
      "text/plain": [
       "['rec.sport.baseball',\n",
       " 'talk.religion.misc',\n",
       " 'comp.graphics',\n",
       " 'sci.space',\n",
       " 'talk.politics.guns']"
      ]
     },
     "execution_count": 7,
     "metadata": {},
     "output_type": "execute_result"
    }
   ],
   "source": [
    "categories"
   ]
  },
  {
   "cell_type": "code",
   "execution_count": 14,
   "metadata": {},
   "outputs": [],
   "source": [
    "def rearrange_predictions(cluster: float):\n",
    "    remap = [2, 0, 3, 1, 4]\n",
    "    return remap[cluster]"
   ]
  },
  {
   "cell_type": "code",
   "execution_count": 15,
   "metadata": {},
   "outputs": [],
   "source": [
    "test_matrix = np.zeros((len(test_corpus), cluster.matrix.shape[1]))\n",
    "\n",
    "for i, row in enumerate(test_corpus[\"data\"]):\n",
    "    test_matrix[i] = cluster.vectorizer.fit_new_sentence(row)"
   ]
  },
  {
   "cell_type": "code",
   "execution_count": 16,
   "metadata": {},
   "outputs": [],
   "source": [
    "n = NearestNeighbors(n_neighbors=1, metric=\"cosine\")  \n",
    "n.fit(cluster.cluster_centers)  \n",
    "\n",
    "_, neigh_index = n.kneighbors(test_matrix)"
   ]
  },
  {
   "cell_type": "code",
   "execution_count": 17,
   "metadata": {},
   "outputs": [],
   "source": [
    "preds = np.vectorize(rearrange_predictions)(neigh_index)\n",
    "train_assign_labels = np.vectorize(rearrange_predictions)(cluster_assignments)"
   ]
  },
  {
   "cell_type": "code",
   "execution_count": 18,
   "metadata": {},
   "outputs": [
    {
     "data": {
      "text/plain": [
       "0.09885714285714285"
      ]
     },
     "execution_count": 18,
     "metadata": {},
     "output_type": "execute_result"
    }
   ],
   "source": [
    "# test-data - osedd data\n",
    "from sklearn.metrics import accuracy_score\n",
    "accuracy_score(test_corpus[\"target\"], preds)"
   ]
  },
  {
   "cell_type": "code",
   "execution_count": 19,
   "metadata": {},
   "outputs": [
    {
     "data": {
      "text/plain": [
       "0.12466641250476554"
      ]
     },
     "execution_count": 19,
     "metadata": {},
     "output_type": "execute_result"
    }
   ],
   "source": [
    "# träaningsdata - sedd data\n",
    "accuracy_score(corpus[\"target\"], train_assign_labels)"
   ]
  }
 ],
 "metadata": {
  "interpreter": {
   "hash": "3c61e2d37e4d302ebbe056fa2f917baf0ad6e808dff9875e6779f13035792cee"
  },
  "kernelspec": {
   "display_name": "Python 3.10.0 64-bit ('venv': venv)",
   "language": "python",
   "name": "python3"
  },
  "language_info": {
   "codemirror_mode": {
    "name": "ipython",
    "version": 3
   },
   "file_extension": ".py",
   "mimetype": "text/x-python",
   "name": "python",
   "nbconvert_exporter": "python",
   "pygments_lexer": "ipython3",
   "version": "3.10.0"
  },
  "orig_nbformat": 4
 },
 "nbformat": 4,
 "nbformat_minor": 2
}
